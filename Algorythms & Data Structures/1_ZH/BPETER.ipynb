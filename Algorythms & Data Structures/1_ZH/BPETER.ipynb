{
  "nbformat": 4,
  "nbformat_minor": 0,
  "metadata": {
    "colab": {
      "provenance": []
    },
    "kernelspec": {
      "name": "python3",
      "display_name": "Python 3"
    },
    "language_info": {
      "name": "python"
    }
  },
  "cells": [
    {
      "cell_type": "markdown",
      "source": [
        "1. feladat"
      ],
      "metadata": {
        "id": "Tmud1Es3VZ4l"
      }
    },
    {
      "cell_type": "code",
      "source": [
        "def legnagyobb_kozos_oszto(a, b):\n",
        "    while a != b:\n",
        "        if a > b:\n",
        "            a -= b\n",
        "        else:\n",
        "            b -= a\n",
        "    return a\n",
        "\n",
        "a = int(input(\"Kérem adja meg az 'a' egész számot: \"))\n",
        "b = int(input(\"Kérem adja meg a 'b' egész számot: \"))\n",
        "\n",
        "lnko = legnagyobb_kozos_oszto(a, b)\n",
        "\n",
        "print(f\"A(z) {a} és {b} egész számok legnagyobb közös osztója: {lnko}\")\n"
      ],
      "metadata": {
        "colab": {
          "base_uri": "https://localhost:8080/"
        },
        "id": "tD1AHMBJVZZn",
        "outputId": "4db5d1ac-dd35-452f-f0f7-ebe7d2ff96dd"
      },
      "execution_count": null,
      "outputs": [
        {
          "output_type": "stream",
          "name": "stdout",
          "text": [
            "Kérem adja meg az 'a' egész számot: 82\n",
            "Kérem adja meg a 'b' egész számot: 119\n",
            "A(z) 82 és 119 egész számok legnagyobb közös osztója: 1\n"
          ]
        }
      ]
    },
    {
      "cell_type": "markdown",
      "metadata": {
        "id": "kYadSl48vRSe"
      },
      "source": [
        "#2. feladat"
      ]
    },
    {
      "cell_type": "code",
      "source": [
        "def legkisebb_mellekatlo(matrix):\n",
        "    n = len(matrix)\n",
        "    min_value = matrix[n-1][0]\n",
        "\n",
        "    for i in range(n):\n",
        "        if matrix[i][n-1-i] < min_value:\n",
        "            min_value = matrix[i][n-1-i]\n",
        "\n",
        "    return min_value\n",
        "\n",
        "# 3x3-as mátrix\n",
        "matrix = [\n",
        "    [1, 2, 3],\n",
        "    [4, 5, 6],\n",
        "    [7, 8, 9]\n",
        "]\n",
        "\n",
        "legkisebb_elem = legkisebb_mellekatlo(matrix)\n",
        "\n",
        "print(\"A négyzetes mátrix mellékátló alatti legkisebb értéke:\", legkisebb_elem)\n"
      ],
      "metadata": {
        "colab": {
          "base_uri": "https://localhost:8080/"
        },
        "id": "6lthZJBUQl5R",
        "outputId": "76d5c65b-0e55-42c1-b3b0-ae3ccce1bb47"
      },
      "execution_count": null,
      "outputs": [
        {
          "output_type": "stream",
          "name": "stdout",
          "text": [
            "A négyzetes mátrix mellékátló alatti legkisebb értéke: 3\n"
          ]
        }
      ]
    },
    {
      "cell_type": "markdown",
      "source": [
        "3. feladat"
      ],
      "metadata": {
        "id": "nE0fPUencD17"
      }
    },
    {
      "cell_type": "code",
      "source": [
        "import math\n",
        "\n",
        "osszeg = sum([math.sqrt(abs(12 * (-3-k) / (2*k+1))) for k in range(10)])\n",
        "print(\"Az √12Σ(((-3)-k) / (2k + 1)) sorozat összege:\", osszeg)\n"
      ],
      "metadata": {
        "colab": {
          "base_uri": "https://localhost:8080/"
        },
        "id": "RZcaefygQlw6",
        "outputId": "d614cdf6-fbc1-4438-b1e6-88bf75439fc5"
      },
      "execution_count": null,
      "outputs": [
        {
          "output_type": "stream",
          "name": "stdout",
          "text": [
            "Az √12Σ(((-3)-k) / (2k + 1)) sorozat összege: 33.93072764865617\n"
          ]
        }
      ]
    },
    {
      "cell_type": "code",
      "source": [
        "import math\n",
        "\n",
        "def faktorialis(n):\n",
        "    if n == 0:\n",
        "        return 1\n",
        "    else:\n",
        "        return n * faktorialis(n-1)\n",
        "\n",
        "def sorozat_ertek(n):\n",
        "    osszeg = 0\n",
        "    for k in range(n+1):\n",
        "        osszeg += ((-1)**k) * (1 / faktorialis(k))\n",
        "\n",
        "    return osszeg\n",
        "\n",
        "# PL az első 5 tag összege\n",
        "n = 5\n",
        "sorozat_osszeg = sorozat_ertek(n)\n",
        "print(f\"A sorozat első {n} tagjának összege: {sorozat_osszeg}\")\n"
      ],
      "metadata": {
        "colab": {
          "base_uri": "https://localhost:8080/"
        },
        "id": "uhKJ0B_MeEpA",
        "outputId": "4383dc1f-7fed-4011-a6c9-da22873fbee6"
      },
      "execution_count": null,
      "outputs": [
        {
          "output_type": "stream",
          "name": "stdout",
          "text": [
            "A sorozat első 5 tagjának összege: 0.3666666666666667\n"
          ]
        }
      ]
    },
    {
      "cell_type": "markdown",
      "source": [
        "4. feladat"
      ],
      "metadata": {
        "id": "pkK3MWGcRZrg"
      }
    },
    {
      "cell_type": "code",
      "source": [
        "def kivalogatas(lista):\n",
        "  kivalogatott_szamok = [szam for szam in lista\n",
        "                           if szam > 44 and szam < 111 and szam % 4 == 0]\n",
        "  return len(kivalogatott_szamok), kivalogatott_szamok\n",
        "\n",
        "# Eredeti lista\n",
        "lista = [12, 45, 78, 56, 33, 88, 100, 42, 77, 64]\n",
        "\n",
        "ki_valogatva, kivalogatott_szamok = kivalogatas(lista)\n",
        "\n",
        "print(\"Eredeti lista elemei:\")\n",
        "print(lista)\n",
        "print(\"Kiválogatott elemek:\")\n",
        "print(kivalogatott_szamok)\n",
        "print(\"Kiválasztott elemek száma:\", ki_valogatva)\n"
      ],
      "metadata": {
        "colab": {
          "base_uri": "https://localhost:8080/"
        },
        "id": "smRPZa1gQleK",
        "outputId": "775428f3-909b-41ca-af25-a6326e27159d"
      },
      "execution_count": null,
      "outputs": [
        {
          "output_type": "stream",
          "name": "stdout",
          "text": [
            "Eredeti lista elemei:\n",
            "[12, 45, 78, 56, 33, 88, 100, 42, 77, 64]\n",
            "Kiválogatott elemek:\n",
            "[56, 88, 100, 64]\n",
            "Kiválasztott elemek száma: 4\n"
          ]
        }
      ]
    },
    {
      "cell_type": "markdown",
      "source": [
        "5. feladat"
      ],
      "metadata": {
        "id": "W0rg96CiUCfz"
      }
    },
    {
      "cell_type": "code",
      "source": [
        "# Pszeudo-kód\n",
        "\n",
        "#Függvény Darab_szamolas(sorozat):\n",
        "#    darabszam = 0\n",
        "#    ciklus minden elemen az \"sorozat\"-ban:\n",
        "#        ha elem osztható 5-tel és páratlan:\n",
        "#            növeld a \"darabszam\" értékét eggyel\n",
        "#    visszatérési érték: darabszam\n",
        "#\n",
        "#Eredeti_sorozat = [12, 45, 78, 56, 33, 88, 100, 42, 77, 64]\n",
        "#\n",
        "#Ki_valogatva = Darab_szamolas(Eredeti_sorozat)\n",
        "#\n",
        "#Kiírás \"A tetszőleges sorozat 5-tel osztható páratlan elemeinek darabszáma:\", Ki_valogatva\n",
        "\n"
      ],
      "metadata": {
        "id": "LWloPdlNUHlO"
      },
      "execution_count": null,
      "outputs": []
    },
    {
      "cell_type": "markdown",
      "source": [
        "6. feladat"
      ],
      "metadata": {
        "id": "55KHaeVOegPW"
      }
    },
    {
      "cell_type": "code",
      "source": [
        "import math\n",
        "\n",
        "def tavolsag(x1, y1, x2, y2):\n",
        "    return math.sqrt((x2 - x1)**2 + (y2 - y1)**2)\n",
        "\n",
        "def kivul_esik_pont(points, x0, y0, r):\n",
        "    for x, y in pontok:\n",
        "        if tavolsag(x, y, x0, y0) > r:\n",
        "            return True\n",
        "    return False\n",
        "\n",
        "pontok = [(1, 2), (4, 5), (6, 8), (3, 4)]\n",
        "x0, y0 = 0, 0\n",
        "r = 5\n",
        "\n",
        "van_kivules = kivul_esik_pont(pontok, x0, y0, r)\n",
        "if van_kivules:\n",
        "    print(\"Van olyan pont a körön kívül.\")\n",
        "else:\n",
        "    print(\"Nincs pont a körön kívül.\")\n"
      ],
      "metadata": {
        "colab": {
          "base_uri": "https://localhost:8080/"
        },
        "id": "UeGJHlA3ei6t",
        "outputId": "2f8fcbbc-f17e-4cef-e694-ef67a5040e1b"
      },
      "execution_count": null,
      "outputs": [
        {
          "output_type": "stream",
          "name": "stdout",
          "text": [
            "Van olyan pont a körön kívül.\n"
          ]
        }
      ]
    }
  ]
}